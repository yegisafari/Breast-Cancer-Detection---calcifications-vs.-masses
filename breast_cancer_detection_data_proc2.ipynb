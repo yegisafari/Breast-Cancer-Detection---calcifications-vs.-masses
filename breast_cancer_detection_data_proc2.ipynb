{
  "cells": [
    {
      "cell_type": "markdown",
      "metadata": {
        "id": "view-in-github",
        "colab_type": "text"
      },
      "source": [
        "<a href=\"https://colab.research.google.com/github/yegisafari/Breast-Cancer-Detection---calcifications-vs.-masses/blob/main/breast_cancer_detection_data_proc2.ipynb\" target=\"_parent\"><img src=\"https://colab.research.google.com/assets/colab-badge.svg\" alt=\"Open In Colab\"/></a>"
      ]
    },
    {
      "cell_type": "code",
      "execution_count": null,
      "metadata": {
        "colab": {
          "base_uri": "https://localhost:8080/"
        },
        "id": "vyzUiPUl5H_h",
        "outputId": "8f6b7867-7bcb-49a4-d28a-c0903edb7799"
      },
      "outputs": [
        {
          "metadata": {
            "tags": null
          },
          "name": "stdout",
          "output_type": "stream",
          "text": [
            "Password for user ‘yeganehsafari’: "
          ]
        }
      ],
      "source": [
        "!wget -r -N -c -np --user yeganehsafari --ask-password https://physionet.org/files/vindr-mammo/1.0.0/"
      ]
    },
    {
      "cell_type": "code",
      "execution_count": null,
      "metadata": {
        "id": "0PJ2RENG5zq7"
      },
      "outputs": [],
      "source": [
        "#Greatvalue91"
      ]
    },
    {
      "cell_type": "code",
      "execution_count": null,
      "metadata": {
        "colab": {
          "base_uri": "https://localhost:8080/"
        },
        "id": "a5awE9alNBN-",
        "outputId": "75be9e26-3f1f-4755-b95c-684ed7f39038"
      },
      "outputs": [
        {
          "output_type": "stream",
          "name": "stdout",
          "text": [
            "Mounted at /content/drive\n"
          ]
        }
      ],
      "source": [
        "from google.colab import drive\n",
        "drive.mount('/content/drive')"
      ]
    },
    {
      "cell_type": "code",
      "execution_count": null,
      "metadata": {
        "id": "zbewdyeHNeEc"
      },
      "outputs": [],
      "source": [
        "!cp -r /content/physionet.org /content/drive/MyDrive/VinDr"
      ]
    },
    {
      "cell_type": "code",
      "execution_count": null,
      "metadata": {
        "id": "1ukos2r1CHDc"
      },
      "outputs": [],
      "source": [
        "import os"
      ]
    },
    {
      "cell_type": "code",
      "execution_count": null,
      "metadata": {
        "id": "fl4ggSb9CIMG"
      },
      "outputs": [],
      "source": [
        "main_path = '/content/drive/MyDrive/VinDr/files/vindr-mammo/1.0.0/images/'"
      ]
    },
    {
      "cell_type": "code",
      "execution_count": null,
      "metadata": {
        "id": "jnQ9S3PFCZRc"
      },
      "outputs": [],
      "source": [
        "import shutil\n",
        "for folder in os.listdir(main_path):\n",
        "  folder_path = os.path.join(main_path,folder)\n",
        "  # print(os.listdir(folder_path))\n",
        "  try:\n",
        "    if len(os.listdir(folder_path)) > 1:\n",
        "      print(os.listdir(folder_path))\n",
        "    else:\n",
        "\n",
        "      print(folder_path)\n",
        "      shutil.rmtree(folder_path)\n",
        "  except:\n",
        "    pass"
      ]
    },
    {
      "cell_type": "code",
      "execution_count": null,
      "metadata": {
        "id": "Vm6RnyLxOFBy",
        "outputId": "7c04dc95-299f-4913-9db1-9a8a75d33046",
        "colab": {
          "base_uri": "https://localhost:8080/"
        }
      },
      "outputs": [
        {
          "output_type": "stream",
          "name": "stdout",
          "text": [
            "Collecting pydicom\n",
            "  Downloading pydicom-2.4.4-py3-none-any.whl (1.8 MB)\n",
            "\u001b[2K     \u001b[90m━━━━━━━━━━━━━━━━━━━━━━━━━━━━━━━━━━━━━━━━\u001b[0m \u001b[32m1.8/1.8 MB\u001b[0m \u001b[31m14.0 MB/s\u001b[0m eta \u001b[36m0:00:00\u001b[0m\n",
            "\u001b[?25hInstalling collected packages: pydicom\n",
            "Successfully installed pydicom-2.4.4\n"
          ]
        }
      ],
      "source": [
        "!pip install pydicom"
      ]
    },
    {
      "cell_type": "code",
      "execution_count": null,
      "metadata": {
        "id": "qwEAJlfpNlQT",
        "collapsed": true
      },
      "outputs": [],
      "source": [
        "import os\n",
        "import ast\n",
        "import pandas as pd\n",
        "import numpy as np\n",
        "import seaborn as sns\n",
        "from tqdm import tqdm\n",
        "from pydicom import dcmread\n",
        "from skimage.io import imsave\n",
        "from skimage.transform import resize"
      ]
    },
    {
      "cell_type": "code",
      "execution_count": null,
      "metadata": {
        "id": "LwEzXaSCN-U6"
      },
      "outputs": [],
      "source": [
        "data_dir =  '/content/drive/MyDrive/VinDr/files/vindr-mammo/1.0.0/'\n",
        "data = pd.read_csv(os.path.join(data_dir,'breast-level_annotations.csv'))\n",
        "meta = pd.read_csv(os.path.join(data_dir,'metadata.csv'))\n",
        "meta = meta.rename(columns={'SOP Instance UID': 'image_id'})\n",
        "data = data.merge(meta, on='image_id')"
      ]
    },
    {
      "cell_type": "code",
      "execution_count": null,
      "metadata": {
        "colab": {
          "base_uri": "https://localhost:8080/"
        },
        "id": "m8xl7iMdOUAE",
        "outputId": "e2bb4e9c-4822-43aa-8cfd-e0f56daf8fbd"
      },
      "outputs": [
        {
          "output_type": "execute_result",
          "data": {
            "text/plain": [
              "breast_birads\n",
              "BI-RADS 1    13406\n",
              "BI-RADS 2     4676\n",
              "BI-RADS 3      930\n",
              "BI-RADS 4      762\n",
              "BI-RADS 5      226\n",
              "Name: count, dtype: int64"
            ]
          },
          "metadata": {},
          "execution_count": 22
        }
      ],
      "source": [
        "data['breast_birads'].value_counts(normalize=False)"
      ]
    },
    {
      "cell_type": "code",
      "execution_count": null,
      "metadata": {
        "colab": {
          "base_uri": "https://localhost:8080/"
        },
        "id": "5m77PZMuOWK-",
        "outputId": "0b88a9a6-1275-459c-cbca-c46970495ad8"
      },
      "outputs": [
        {
          "output_type": "execute_result",
          "data": {
            "text/plain": [
              "breast_birads\n",
              "BI-RADS 1    0.6703\n",
              "BI-RADS 2    0.2338\n",
              "BI-RADS 3    0.0465\n",
              "BI-RADS 4    0.0381\n",
              "BI-RADS 5    0.0113\n",
              "Name: proportion, dtype: float64"
            ]
          },
          "metadata": {},
          "execution_count": 23
        }
      ],
      "source": [
        "data['breast_birads'].value_counts(normalize=True)"
      ]
    },
    {
      "cell_type": "code",
      "execution_count": null,
      "metadata": {
        "colab": {
          "base_uri": "https://localhost:8080/"
        },
        "id": "vjPhH4b0OYJ1",
        "outputId": "687755c6-5ece-4ac2-e34a-3de28493cbc4"
      },
      "outputs": [
        {
          "output_type": "execute_result",
          "data": {
            "text/plain": [
              "Manufacturer\n",
              "SIEMENS              15244\n",
              "Planmed               3796\n",
              "IMS s.r.l.             736\n",
              "IMS GIOTTO S.p.A.      224\n",
              "Name: count, dtype: int64"
            ]
          },
          "metadata": {},
          "execution_count": 24
        }
      ],
      "source": [
        "data[\"Manufacturer\"].value_counts(normalize=False)"
      ]
    },
    {
      "cell_type": "code",
      "execution_count": null,
      "metadata": {
        "colab": {
          "base_uri": "https://localhost:8080/"
        },
        "id": "KQAsQ0NKObBQ",
        "outputId": "2ef13890-8466-41e8-cb49-bf1771c360da"
      },
      "outputs": [
        {
          "output_type": "execute_result",
          "data": {
            "text/plain": [
              "Manufacturer\n",
              "SIEMENS              0.7622\n",
              "Planmed              0.1898\n",
              "IMS s.r.l.           0.0368\n",
              "IMS GIOTTO S.p.A.    0.0112\n",
              "Name: proportion, dtype: float64"
            ]
          },
          "metadata": {},
          "execution_count": 25
        }
      ],
      "source": [
        "data[\"Manufacturer\"].value_counts(normalize=True)\n"
      ]
    },
    {
      "cell_type": "code",
      "execution_count": null,
      "metadata": {
        "colab": {
          "base_uri": "https://localhost:8080/"
        },
        "id": "PJctF18EPF3u",
        "outputId": "4ac008b5-eca4-46f7-8f76-94e5e0bc7b40"
      },
      "outputs": [
        {
          "output_type": "execute_result",
          "data": {
            "text/plain": [
              "Manufacturer's Model Name\n",
              "Mammomat Inspiration    15244\n",
              "Planmed Nuance           3796\n",
              "GIOTTO CLASS              628\n",
              "GIOTTO IMAGE 3DL          332\n",
              "Name: count, dtype: int64"
            ]
          },
          "metadata": {},
          "execution_count": 27
        }
      ],
      "source": [
        "data[\"Manufacturer's Model Name\"].value_counts(normalize=False)\n"
      ]
    },
    {
      "cell_type": "code",
      "execution_count": null,
      "metadata": {
        "colab": {
          "base_uri": "https://localhost:8080/"
        },
        "id": "oczbbDQIPLnf",
        "outputId": "2314bcb2-44df-4ed9-8db6-267a6a5613c1"
      },
      "outputs": [
        {
          "output_type": "execute_result",
          "data": {
            "text/plain": [
              "Manufacturer's Model Name\n",
              "Mammomat Inspiration    0.7622\n",
              "Planmed Nuance          0.1898\n",
              "GIOTTO CLASS            0.0314\n",
              "GIOTTO IMAGE 3DL        0.0166\n",
              "Name: proportion, dtype: float64"
            ]
          },
          "metadata": {},
          "execution_count": 28
        }
      ],
      "source": [
        "data[\"Manufacturer's Model Name\"].value_counts(normalize=True)\n"
      ]
    },
    {
      "cell_type": "code",
      "execution_count": null,
      "metadata": {
        "colab": {
          "base_uri": "https://localhost:8080/",
          "height": 524
        },
        "id": "N4oPFaqZPNru",
        "outputId": "0c7308dc-201e-4d5d-9671-49bb4bbd0e7f"
      },
      "outputs": [
        {
          "output_type": "execute_result",
          "data": {
            "text/plain": [
              "<seaborn.axisgrid.FacetGrid at 0x7c35d40906d0>"
            ]
          },
          "metadata": {},
          "execution_count": 29
        },
        {
          "output_type": "display_data",
          "data": {
            "text/plain": [
              "<Figure size 511.111x500 with 1 Axes>"
            ],
            "image/png": "[encoded data removed]"
          },
          "metadata": {}
        }
      ],
      "source": [
        "sns.catplot(x='breast_birads', data=data, order=['BI-RADS 1', 'BI-RADS 2', 'BI-RADS 3', 'BI-RADS 4', 'BI-RADS 5'], kind='count')\n"
      ]
    },
    {
      "cell_type": "code",
      "execution_count": null,
      "metadata": {
        "colab": {
          "base_uri": "https://localhost:8080/",
          "height": 524
        },
        "id": "bHG36QLVPWlJ",
        "outputId": "a4780a41-3501-4b40-bab2-e52cee764376"
      },
      "outputs": [
        {
          "output_type": "execute_result",
          "data": {
            "text/plain": [
              "<seaborn.axisgrid.FacetGrid at 0x7c361cac1e40>"
            ]
          },
          "metadata": {},
          "execution_count": 30
        },
        {
          "output_type": "display_data",
          "data": {
            "text/plain": [
              "<Figure size 511.111x500 with 1 Axes>"
            ],
            "image/png": "[encoded data removed]"
          },
          "metadata": {}
        }
      ],
      "source": [
        "sns.catplot(x='breast_density', order=['DENSITY A', 'DENSITY B', 'DENSITY C', 'DENSITY D'], data=data, kind='count')\n"
      ]
    },
    {
      "cell_type": "code",
      "execution_count": null,
      "metadata": {
        "id": "PPNjn6R3PZVs"
      },
      "outputs": [],
      "source": [
        "image_size = (512,512)\n"
      ]
    },
    {
      "cell_type": "code",
      "source": [
        "image_folder = os.path.join(data_dir,'images')\n",
        "data2 = data[data['study_id'].apply(lambda x : x in os.listdir(image_folder) )]"
      ],
      "metadata": {
        "id": "OlLcIjD0SKVq"
      },
      "execution_count": null,
      "outputs": []
    },
    {
      "cell_type": "code",
      "source": [
        "preproc_dir = 'images_512x512'\n",
        "out_dir = os.path.join(data_dir,preproc_dir)\n",
        "\n",
        "if not os.path.exists(out_dir):\n",
        "    os.makedirs(out_dir)\n",
        "image_folder = os.path.join(data_dir,'images')\n",
        "\n",
        "\n",
        "\n",
        "for study_id  in os.listdir(image_folder) :\n",
        "  if not study_id == 'index.html':\n",
        "    out_path = os.path.join(out_dir,study_id)\n",
        "    if not os.path.exists(out_path):\n",
        "          os.makedirs(out_path)\n",
        "\n",
        "    for image_id in os.listdir(os.path.join(image_folder,study_id)):\n",
        "\n",
        "\n",
        "      image_id = image_id.split('.')[0]\n",
        "      img_path = os.path.join(data_dir, 'images', study_id, image_id + '.dicom')\n",
        "      out_fn = os.path.join(out_path, image_id + '.png')\n",
        "\n",
        "      if not os.path.exists(out_fn) and not image_id =='index':\n",
        "          try:\n",
        "            dicom = dcmread(img_path)\n",
        "            image = dicom.pixel_array\n",
        "            idx = data[data['image_id']==image_id].index[0]\n",
        "\n",
        "            window = np.array(ast.literal_eval(data.loc[idx, 'Window Width']))\n",
        "            level = np.array(ast.literal_eval(data.loc[idx, 'Window Center']))\n",
        "\n",
        "            # Multiple window/level settings for IMS Giotto images\n",
        "            if data.loc[idx, \"Manufacturer's Model Name\"] == 'GIOTTO IMAGE 3DL' or data.loc[idx, \"Manufacturer's Model Name\"] == 'GIOTTO CLASS':\n",
        "                window = window[0]\n",
        "                level = level[0]\n",
        "\n",
        "            # MONOCHROME1 images need special handling for inverting pixel intensities\n",
        "            if data.loc[idx, 'Photometric Interpretation'] == 'MONOCHROME1':\n",
        "                image[image==1] += data.loc[idx, 'Pixel Padding Value']\n",
        "                level = np.max(image) - level\n",
        "                image = np.max(image) - image\n",
        "\n",
        "            # Resize image\n",
        "            image = resize(image, output_shape=image_size, preserve_range=True).astype(np.float32)\n",
        "\n",
        "            # Normalize pixel intensities, and convert to 8-bit\n",
        "            image -= (level - window/2)\n",
        "            image /= window\n",
        "            image[image<0] = 0\n",
        "            image[image>1] = 1\n",
        "            image *= 255\n",
        "\n",
        "            # Flip image with laterality equals right\n",
        "            if data.loc[idx, 'laterality'] == 'R':\n",
        "                image = image[:, ::-1]\n",
        "\n",
        "            # image.tofile(os.path.join(out_path, data.loc[idx, 'image_id'] + '.dat'))\n",
        "            imsave(out_fn, image.astype(np.uint8))\n",
        "          except:\n",
        "            pass"
      ],
      "metadata": {
        "id": "jMauArx6OX76"
      },
      "execution_count": null,
      "outputs": []
    },
    {
      "cell_type": "code",
      "source": [
        "data2 = data2.reset_index()"
      ],
      "metadata": {
        "id": "cQN7Hpw6cm1Q"
      },
      "execution_count": null,
      "outputs": []
    },
    {
      "cell_type": "code",
      "source": [
        "data2['split'] = 'training'"
      ],
      "metadata": {
        "id": "nR0SQWNoc58x"
      },
      "execution_count": null,
      "outputs": []
    },
    {
      "cell_type": "code",
      "source": [
        "data2['split'].iloc[2*len(data2)//3:] = 'test'"
      ],
      "metadata": {
        "colab": {
          "base_uri": "https://localhost:8080/"
        },
        "id": "TBeOyt61cTuT",
        "outputId": "10eae896-34c9-4f0f-faff-ae7224600ac8"
      },
      "execution_count": null,
      "outputs": [
        {
          "output_type": "stream",
          "name": "stderr",
          "text": [
            "<ipython-input-11-194dff421624>:1: SettingWithCopyWarning: \n",
            "A value is trying to be set on a copy of a slice from a DataFrame\n",
            "\n",
            "See the caveats in the documentation: https://pandas.pydata.org/pandas-docs/stable/user_guide/indexing.html#returning-a-view-versus-a-copy\n",
            "  data2['split'].iloc[2*len(data2)//3:] = 'test'\n"
          ]
        }
      ]
    },
    {
      "cell_type": "code",
      "source": [
        "data2['split'].value_counts()"
      ],
      "metadata": {
        "colab": {
          "base_uri": "https://localhost:8080/"
        },
        "id": "s_J4mHExcPnj",
        "outputId": "27e1dfa2-24c0-45a5-bd9c-0714df020a5e"
      },
      "execution_count": null,
      "outputs": [
        {
          "output_type": "execute_result",
          "data": {
            "text/plain": [
              "split\n",
              "training    109\n",
              "test         55\n",
              "Name: count, dtype: int64"
            ]
          },
          "metadata": {},
          "execution_count": 12
        }
      ]
    },
    {
      "cell_type": "code",
      "source": [],
      "metadata": {
        "id": "4ql9dRFehp9j"
      },
      "execution_count": null,
      "outputs": []
    }
  ],
  "metadata": {
    "colab": {
      "provenance": [],
      "gpuType": "T4",
      "include_colab_link": true
    },
    "kernelspec": {
      "display_name": "Python 3",
      "name": "python3"
    },
    "language_info": {
      "name": "python"
    },
    "accelerator": "GPU"
  },
  "nbformat": 4,
  "nbformat_minor": 0
}